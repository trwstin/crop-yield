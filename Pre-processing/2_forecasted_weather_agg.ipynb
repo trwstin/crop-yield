{
 "cells": [
  {
   "cell_type": "code",
   "execution_count": 2,
   "metadata": {},
   "outputs": [],
   "source": [
    "import pandas as pd\n",
    "\n",
    "df = pd.read_csv('../Data/raw/forecast weather/forecast_weather_2024-2049_raw.csv')"
   ]
  },
  {
   "cell_type": "code",
   "execution_count": 3,
   "metadata": {},
   "outputs": [],
   "source": [
    "def extract_year(date_str):\n",
    "    parts = date_str.split('/')\n",
    "    year = parts[-1]\n",
    "    if len(year) == 2:  # If the year is in two-digit format\n",
    "        year = '20' + year  # Assuming all years are in the 2000s\n",
    "    return int(year)\n",
    "\n",
    "def classify_season(date_str):\n",
    "    month = int(date_str.split('/')[1])  # Extracting the month\n",
    "    if month in [12, 1, 2]:\n",
    "        return 'Winter'\n",
    "    elif month in range(3, 10):\n",
    "        return 'Summer'\n",
    "    else:  # Covering months October and November\n",
    "        return 'Autumn'"
   ]
  },
  {
   "cell_type": "code",
   "execution_count": 4,
   "metadata": {},
   "outputs": [],
   "source": [
    "df['year'] = df['time'].apply(extract_year)\n",
    "df['season'] = df['time'].apply(classify_season)"
   ]
  },
  {
   "cell_type": "code",
   "execution_count": 5,
   "metadata": {},
   "outputs": [],
   "source": [
    "# Grouping by state, year, and season and aggregating the specified fields to get the average values\n",
    "df = df.groupby(['state', 'year', 'season']).agg({\n",
    "    'temperature_2m_min (°C)': 'mean',\n",
    "    'temperature_2m_max (°C)': 'mean',\n",
    "    'precipitation_sum (mm)': 'mean',\n",
    "    'snowfall_sum (cm)': 'mean'\n",
    "}).reset_index()\n",
    "\n",
    "df = df.fillna(0)\n",
    "df.columns = df.columns.str.replace(r' \\(\\D+\\)', '', regex=True)\n",
    "\n",
    "# Time frame limit\n",
    "df = df[(df['year'] >= 2024) & (df['year'] <= 2028)]"
   ]
  },
  {
   "cell_type": "code",
   "execution_count": 7,
   "metadata": {},
   "outputs": [],
   "source": [
    "# Filter only for states within the historical weather data\n",
    "historical_weather = pd.read_excel('../Data/clean/historical_weather.xlsx')\n",
    "states = pd.DataFrame(historical_weather['state'].unique())\n",
    "states.columns = ['state']\n",
    "merged_df = pd.merge(df, states, on='state', how='inner')\n",
    "\n",
    "merged_df.to_excel('../Data/clean/forecast_weather.xlsx', index = False)"
   ]
  }
 ],
 "metadata": {
  "kernelspec": {
   "display_name": "Python 3",
   "language": "python",
   "name": "python3"
  },
  "language_info": {
   "codemirror_mode": {
    "name": "ipython",
    "version": 3
   },
   "file_extension": ".py",
   "mimetype": "text/x-python",
   "name": "python",
   "nbconvert_exporter": "python",
   "pygments_lexer": "ipython3",
   "version": "3.10.11"
  }
 },
 "nbformat": 4,
 "nbformat_minor": 2
}
