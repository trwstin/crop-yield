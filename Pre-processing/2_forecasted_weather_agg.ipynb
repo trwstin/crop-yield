{
 "cells": [
  {
   "cell_type": "code",
   "execution_count": null,
   "metadata": {},
   "outputs": [],
   "source": [
    "import pandas as pd\n",
    "\n",
    "df = pd.read_excel('weather.xlsx')"
   ]
  },
  {
   "cell_type": "code",
   "execution_count": null,
   "metadata": {},
   "outputs": [],
   "source": [
    "def extract_year(date_str):\n",
    "    parts = date_str.split('/')\n",
    "    year = parts[-1]\n",
    "    if len(year) == 2:  # If the year is in two-digit format\n",
    "        year = '20' + year  # Assuming all years are in the 2000s\n",
    "    return int(year)\n",
    "\n",
    "def classify_season(date_str):\n",
    "    month = int(date_str.split('/')[1])  # Extracting the month\n",
    "    if month in [12, 1, 2]:\n",
    "        return 'Winter'\n",
    "    elif month in range(3, 10):\n",
    "        return 'Summer'\n",
    "    else:  # Covering months October and November\n",
    "        return 'Autumn'"
   ]
  },
  {
   "cell_type": "code",
   "execution_count": null,
   "metadata": {},
   "outputs": [],
   "source": [
    "df['year'] = df['time'].apply(extract_year)\n",
    "df['season'] = df['time'].apply(classify_season)"
   ]
  },
  {
   "cell_type": "code",
   "execution_count": null,
   "metadata": {},
   "outputs": [],
   "source": [
    "# Grouping by state, year, and season and aggregating the specified fields to get the average values\n",
    "aggregated_df = df['year'] = df['time'].apply(extract_year).groupby(['state', 'year', 'season']).agg({\n",
    "    'temperature_2m_min (°C)': 'mean',\n",
    "    'temperature_2m_max (°C)': 'mean',\n",
    "    'precipitation_sum (mm)': 'mean',\n",
    "    'rain_sum (mm)': 'mean',\n",
    "    'snowfall_sum (cm)': 'mean'\n",
    "}).reset_index()"
   ]
  },
  {
   "cell_type": "code",
   "execution_count": null,
   "metadata": {},
   "outputs": [],
   "source": [
    "# Replacing all NaN values in the aggregated dataset with 0\n",
    "aggregated_df = aggregated_df.fillna(0)\n",
    "aggregated_df.to_excel('forecast_weather.xlsx', index = False)"
   ]
  }
 ],
 "metadata": {
  "language_info": {
   "name": "python"
  }
 },
 "nbformat": 4,
 "nbformat_minor": 2
}
