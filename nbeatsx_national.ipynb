{
 "cells": [
  {
   "cell_type": "markdown",
   "metadata": {},
   "source": [
    "### Import Packages"
   ]
  },
  {
   "cell_type": "code",
   "execution_count": 44,
   "metadata": {},
   "outputs": [],
   "source": [
    "import pandas as pd\n",
    "from sklearn.model_selection import train_test_split\n",
    "from sklearn.linear_model import Lasso\n",
    "from neuralforecast import NeuralForecast\n",
    "from neuralforecast.losses.pytorch import HuberLoss\n",
    "import plotly.graph_objects as go"
   ]
  },
  {
   "cell_type": "markdown",
   "metadata": {},
   "source": [
    "### Load Historical Dataset"
   ]
  },
  {
   "cell_type": "code",
   "execution_count": 45,
   "metadata": {},
   "outputs": [],
   "source": [
    "yield_weather_soil_df = pd.read_csv('historical_ywse_cleaned.csv')\n",
    "df = yield_weather_soil_df"
   ]
  },
  {
   "cell_type": "markdown",
   "metadata": {},
   "source": [
    "### Feature Selection"
   ]
  },
  {
   "cell_type": "code",
   "execution_count": 46,
   "metadata": {},
   "outputs": [
    {
     "name": "stdout",
     "output_type": "stream",
     "text": [
      "Selected features:  Index(['temperature_2m_min', 'temperature_2m_max', 'precipitation_sum',\n",
      "       'rain_sum', 'Mean_N_SOIL', 'Mean_P_SOIL', 'Mean_K_SOIL',\n",
      "       'Mean_HUMIDITY', 'Mean_RAINFALL', 'Inflation annual %', 'Population'],\n",
      "      dtype='object')\n"
     ]
    }
   ],
   "source": [
    "# Drop non-numeric columns\n",
    "df_non_categorical = df.drop(['year', 'state', 'crop', 'season'], axis=1)\n",
    "\n",
    "X = df_non_categorical.drop('yield', axis=1) # features\n",
    "y = df_non_categorical['yield'] # target variable\n",
    "\n",
    "X_train, X_test, y_train, y_test = train_test_split(X, y, test_size=0.1, random_state=42)\n",
    "lasso = Lasso(alpha=0.1)\n",
    "lasso.fit(X_train, y_train)\n",
    "selected_features = X.columns[lasso.coef_ != 0]\n",
    "print(\"Selected features: \", selected_features)"
   ]
  },
  {
   "cell_type": "code",
   "execution_count": 47,
   "metadata": {},
   "outputs": [],
   "source": [
    "hist_df = df[['year', 'season', 'state', 'crop', 'yield','temperature_2m_min', 'temperature_2m_max', 'precipitation_sum',\n",
    "       'rain_sum', 'Mean_N_SOIL', 'Mean_P_SOIL', 'Mean_K_SOIL',\n",
    "       'Mean_HUMIDITY', 'Mean_RAINFALL', 'Inflation annual %', 'Population']]\n",
    "\n",
    "def map_season(season):\n",
    "    return '04-30' if season == 'Summer' else ('08-31' if season == 'Autumn' else '12-31')\n",
    "\n",
    "hist_df['Year_Season'] = hist_df.apply(lambda row: str(row['year']) + '-' + map_season(row['season']), axis=1)\n",
    "hist_df = hist_df.sort_values('Year_Season')\n",
    "hist_df['Year_Season'] = pd.to_datetime(hist_df['Year_Season'], format='mixed').dt.floor('D')\n",
    "hist_df.reset_index(drop=True, inplace=True)\n",
    "hist_df = hist_df.drop(columns=['year', 'season'])"
   ]
  },
  {
   "cell_type": "code",
   "execution_count": 48,
   "metadata": {},
   "outputs": [],
   "source": [
    "# Aggregate data to be national-level by averaging values on state-level\n",
    "agg_df = hist_df.groupby(['crop', 'Year_Season']).agg({\n",
    "    'yield': 'sum',\n",
    "    'temperature_2m_min':'mean',\n",
    "    'temperature_2m_max':'mean',\n",
    "    'precipitation_sum':'mean',\n",
    "    'rain_sum':'mean',\n",
    "    'Mean_N_SOIL':'mean',\n",
    "    'Mean_P_SOIL':'mean',\n",
    "    'Mean_K_SOIL':'mean',\n",
    "    'Mean_HUMIDITY':'mean',\n",
    "    'Mean_RAINFALL':'mean',\n",
    "    'Inflation annual %':'mean',\n",
    "    'Population':'mean'\n",
    "}).reset_index()\n",
    "\n",
    "hist_df_nbx = agg_df.rename(columns={'Year_Season': 'ds', 'yield': 'y', 'crop': 'unique_id'})"
   ]
  },
  {
   "cell_type": "markdown",
   "metadata": {},
   "source": [
    "### Load Forecast Dataset"
   ]
  },
  {
   "cell_type": "code",
   "execution_count": 49,
   "metadata": {},
   "outputs": [],
   "source": [
    "futr_df = pd.read_csv('future_ywse_cleaned.csv')\n",
    "\n",
    "columns = ['year','season', 'crop', 'temperature_2m_min','temperature_2m_max','precipitation_sum',\n",
    "            'rain_sum', 'Mean_N_SOIL','Mean_P_SOIL','Mean_K_SOIL',\n",
    "            'Mean_HUMIDITY','Mean_RAINFALL',\n",
    "            'Inflation annual %', 'Population', 'yield']\n",
    "\n",
    "numeric_cols = futr_df[columns]\n",
    "\n",
    "futr_df = numeric_cols.groupby(['year', 'season', 'crop']).mean().reset_index()\n",
    "\n",
    "# Drop the 'state' column if it exists\n",
    "if 'state' in futr_df.columns:\n",
    "    futr_df = futr_df.drop(columns=['state'])"
   ]
  },
  {
   "cell_type": "code",
   "execution_count": 50,
   "metadata": {},
   "outputs": [],
   "source": [
    "futr_df['Year_Season'] = futr_df.apply(lambda row: str(row['year']) + '-' + map_season(row['season']), axis=1)\n",
    "futr_df = futr_df.sort_values('Year_Season')\n",
    "futr_df['Year_Season'] = pd.to_datetime(futr_df['Year_Season'], format='mixed').dt.floor('D')\n",
    "futr_df.reset_index(drop=True, inplace=True)\n",
    "futr_df = futr_df.drop(columns=['year', 'season'])\n",
    "\n",
    "futr_df = futr_df.groupby(['crop', 'Year_Season']).agg({\n",
    "    'yield':'mean',\n",
    "    'temperature_2m_min':'mean',\n",
    "    'temperature_2m_max':'mean',\n",
    "    'precipitation_sum':'mean',\n",
    "    'rain_sum':'mean',\n",
    "    'Mean_N_SOIL':'mean',\n",
    "    'Mean_P_SOIL':'mean',\n",
    "    'Mean_K_SOIL':'mean',\n",
    "    'Mean_HUMIDITY':'mean',\n",
    "    'Mean_RAINFALL':'mean',\n",
    "    'Inflation annual %':'mean',\n",
    "    'Population':'mean'\n",
    "}).reset_index()\n",
    "futr_df.head()\n",
    "\n",
    "futr_df = futr_df.rename(columns={'Year_Season': 'ds', 'crop': 'unique_id', 'yield': 'y'})"
   ]
  },
  {
   "cell_type": "markdown",
   "metadata": {},
   "source": [
    "### Concatenate Historical and Forecasted Dataset"
   ]
  },
  {
   "cell_type": "code",
   "execution_count": 51,
   "metadata": {},
   "outputs": [],
   "source": [
    "# Merge template DataFrame with test data\n",
    "comb_df = pd.concat([hist_df_nbx, futr_df], ignore_index=True)\n",
    "\n",
    "# Ensure the columns are in the same order\n",
    "comb_df = comb_df.reindex(columns=futr_df.columns)"
   ]
  },
  {
   "cell_type": "markdown",
   "metadata": {},
   "source": [
    "### Train NBEATSx Model"
   ]
  },
  {
   "cell_type": "code",
   "execution_count": 52,
   "metadata": {},
   "outputs": [],
   "source": [
    "train = comb_df.loc[comb_df['ds'] <= '2020-12-31']\n",
    "valid = comb_df.loc[(comb_df['ds'] >= '2021-04-30') & (comb_df['ds'] <= '2028-12-31')]\n",
    "\n",
    "horizon = valid['ds'].nunique()"
   ]
  },
  {
   "cell_type": "code",
   "execution_count": 53,
   "metadata": {},
   "outputs": [
    {
     "name": "stderr",
     "output_type": "stream",
     "text": [
      "Seed set to 1\n"
     ]
    }
   ],
   "source": [
    "# Import our modified version of NBEATSx which includes SelfAttention and ResidualConnection\n",
    "from nbeatsx_SARC import NBEATSx\n",
    "\n",
    "models = [NBEATSx(h=horizon,input_size=26,\n",
    "                  loss=HuberLoss(),\n",
    "                  learning_rate=0.001,\n",
    "                  dropout_prob_theta=0.5,\n",
    "                  max_steps=100,\n",
    "                  stack_types = [\"identity\", \"trend\", \"seasonality\", \"exogenous\"],\n",
    "                  n_blocks = [1,1,1,1],\n",
    "                  val_check_steps=10,\n",
    "                  scaler_type='standard',\n",
    "                  activation='ReLU'\n",
    "                )]"
   ]
  },
  {
   "cell_type": "code",
   "execution_count": 54,
   "metadata": {},
   "outputs": [
    {
     "name": "stdout",
     "output_type": "stream",
     "text": [
      "Epoch 3:  50%|█████     | 1/2 [00:00<00:00,  5.57it/s, v_num=871, train_loss_step=0.775, train_loss_epoch=0.724]"
     ]
    },
    {
     "name": "stdout",
     "output_type": "stream",
     "text": [
      "Epoch 49: 100%|██████████| 2/2 [00:00<00:00,  6.61it/s, v_num=871, train_loss_step=0.470, train_loss_epoch=0.434]\n"
     ]
    }
   ],
   "source": [
    "nf = NeuralForecast(models=models, freq='4M')\n",
    "nf.fit(df=train)"
   ]
  },
  {
   "cell_type": "markdown",
   "metadata": {},
   "source": [
    "### Generate Predictions"
   ]
  },
  {
   "cell_type": "code",
   "execution_count": 55,
   "metadata": {},
   "outputs": [
    {
     "name": "stdout",
     "output_type": "stream",
     "text": [
      "Predicting DataLoader 0: 100%|██████████| 2/2 [00:00<00:00, 210.28it/s]\n"
     ]
    }
   ],
   "source": [
    "pred_df =  nf.predict(futr_df=valid).reset_index()\n",
    "pred_df = pred_df.merge(valid[['ds','unique_id', 'y']], on=['ds', 'unique_id'], how='left')"
   ]
  },
  {
   "cell_type": "markdown",
   "metadata": {},
   "source": [
    "### Prepare DataFrame for Plotting"
   ]
  },
  {
   "cell_type": "code",
   "execution_count": 56,
   "metadata": {},
   "outputs": [],
   "source": [
    "# Get unique values of 'unique_id' column\n",
    "unique_ids = hist_df_nbx['unique_id'].unique()\n",
    "\n",
    "# Comment out below section to see for graph all crops\n",
    "unique_ids = [id_ for id_ in unique_ids if \n",
    "              'Sugarcane' in id_ or \n",
    "              'Maize' in id_ or \n",
    "              'Rice' in id_]"
   ]
  },
  {
   "cell_type": "markdown",
   "metadata": {},
   "source": [
    "### Plot Time Series Forecast"
   ]
  },
  {
   "cell_type": "code",
   "execution_count": 57,
   "metadata": {},
   "outputs": [
    {
     "data": {
      "application/vnd.plotly.v1+json": {
       "config": {
        "plotlyServerURL": "https://plot.ly"
       },
       "data": [
        {
         "line": {
          "color": "skyblue"
         },
         "mode": "lines",
         "name": "Actual - Maize",
         "type": "scatter",
         "x": [
          "1998-04-30T00:00:00",
          "1998-08-31T00:00:00",
          "1998-12-31T00:00:00",
          "1999-04-30T00:00:00",
          "1999-08-31T00:00:00",
          "1999-12-31T00:00:00",
          "2000-04-30T00:00:00",
          "2000-08-31T00:00:00",
          "2000-12-31T00:00:00",
          "2001-04-30T00:00:00",
          "2001-08-31T00:00:00",
          "2001-12-31T00:00:00",
          "2002-04-30T00:00:00",
          "2002-08-31T00:00:00",
          "2002-12-31T00:00:00",
          "2003-04-30T00:00:00",
          "2003-08-31T00:00:00",
          "2003-12-31T00:00:00",
          "2004-04-30T00:00:00",
          "2004-08-31T00:00:00",
          "2004-12-31T00:00:00",
          "2005-04-30T00:00:00",
          "2005-08-31T00:00:00",
          "2005-12-31T00:00:00",
          "2006-04-30T00:00:00",
          "2006-08-31T00:00:00",
          "2006-12-31T00:00:00",
          "2007-04-30T00:00:00",
          "2007-08-31T00:00:00",
          "2007-12-31T00:00:00",
          "2008-04-30T00:00:00",
          "2008-08-31T00:00:00",
          "2008-12-31T00:00:00",
          "2009-04-30T00:00:00",
          "2009-08-31T00:00:00",
          "2009-12-31T00:00:00",
          "2010-04-30T00:00:00",
          "2010-08-31T00:00:00",
          "2010-12-31T00:00:00",
          "2011-04-30T00:00:00",
          "2011-08-31T00:00:00",
          "2011-12-31T00:00:00",
          "2012-04-30T00:00:00",
          "2012-08-31T00:00:00",
          "2012-12-31T00:00:00",
          "2013-04-30T00:00:00",
          "2013-08-31T00:00:00",
          "2013-12-31T00:00:00",
          "2014-04-30T00:00:00",
          "2014-08-31T00:00:00",
          "2014-12-31T00:00:00",
          "2015-04-30T00:00:00",
          "2015-08-31T00:00:00",
          "2015-12-31T00:00:00",
          "2016-04-30T00:00:00",
          "2016-08-31T00:00:00",
          "2016-12-31T00:00:00",
          "2017-04-30T00:00:00",
          "2017-08-31T00:00:00",
          "2017-12-31T00:00:00",
          "2018-04-30T00:00:00",
          "2018-08-31T00:00:00",
          "2018-12-31T00:00:00",
          "2019-04-30T00:00:00",
          "2019-08-31T00:00:00",
          "2019-12-31T00:00:00",
          "2020-04-30T00:00:00",
          "2020-08-31T00:00:00",
          "2020-12-31T00:00:00",
          "2021-04-30T00:00:00",
          "2021-08-31T00:00:00",
          "2021-12-31T00:00:00",
          "2022-04-30T00:00:00",
          "2022-08-31T00:00:00",
          "2022-12-31T00:00:00",
          "2023-04-30T00:00:00",
          "2023-08-31T00:00:00",
          "2023-12-31T00:00:00"
         ],
         "y": [
          10.34,
          939.09,
          0.94,
          9.82,
          4.720000000000001,
          0.59,
          4.21,
          0,
          0,
          5.73,
          0,
          0,
          5.17,
          1.62,
          0,
          5.21,
          2.86,
          0,
          8.15,
          1.52,
          0,
          10.280000000000001,
          3.0700000000000003,
          1.97,
          9.74,
          2.56,
          2.22,
          10.38,
          3.08,
          2.62,
          15.55,
          4.35,
          2.74,
          16.439999999999998,
          7.23,
          2.2,
          14.07,
          6.94,
          1.43,
          18.34,
          7.13,
          2.06,
          20.29,
          8.08,
          2.2800000000000002,
          21.88,
          9.6,
          2.46,
          23.830000000000002,
          9.86,
          2.51,
          20.48,
          9.870000000000001,
          2.67,
          19.630000000000003,
          8.19,
          2.68,
          22.21,
          10.3,
          1.29,
          26.17,
          7.609999999999999,
          2.61,
          22.919999999999998,
          7.79,
          2.45,
          30.98,
          8.36,
          2.36,
          31.619999999999997,
          7.21,
          1.99,
          26.84,
          7.18,
          2.7,
          0,
          0,
          0
         ]
        },
        {
         "line": {
          "color": "skyblue"
         },
         "mode": "lines",
         "name": "Actual - Rice",
         "type": "scatter",
         "x": [
          "1998-04-30T00:00:00",
          "1998-08-31T00:00:00",
          "1998-12-31T00:00:00",
          "1999-04-30T00:00:00",
          "1999-08-31T00:00:00",
          "1999-12-31T00:00:00",
          "2000-04-30T00:00:00",
          "2000-08-31T00:00:00",
          "2000-12-31T00:00:00",
          "2001-04-30T00:00:00",
          "2001-08-31T00:00:00",
          "2001-12-31T00:00:00",
          "2002-04-30T00:00:00",
          "2002-08-31T00:00:00",
          "2002-12-31T00:00:00",
          "2003-04-30T00:00:00",
          "2003-08-31T00:00:00",
          "2003-12-31T00:00:00",
          "2004-04-30T00:00:00",
          "2004-08-31T00:00:00",
          "2004-12-31T00:00:00",
          "2005-04-30T00:00:00",
          "2005-08-31T00:00:00",
          "2005-12-31T00:00:00",
          "2006-04-30T00:00:00",
          "2006-08-31T00:00:00",
          "2006-12-31T00:00:00",
          "2007-04-30T00:00:00",
          "2007-08-31T00:00:00",
          "2007-12-31T00:00:00",
          "2008-04-30T00:00:00",
          "2008-08-31T00:00:00",
          "2008-12-31T00:00:00",
          "2009-04-30T00:00:00",
          "2009-08-31T00:00:00",
          "2009-12-31T00:00:00",
          "2010-04-30T00:00:00",
          "2010-08-31T00:00:00",
          "2010-12-31T00:00:00",
          "2011-04-30T00:00:00",
          "2011-08-31T00:00:00",
          "2011-12-31T00:00:00",
          "2012-04-30T00:00:00",
          "2012-08-31T00:00:00",
          "2012-12-31T00:00:00",
          "2013-04-30T00:00:00",
          "2013-08-31T00:00:00",
          "2013-12-31T00:00:00",
          "2014-04-30T00:00:00",
          "2014-08-31T00:00:00",
          "2014-12-31T00:00:00",
          "2015-04-30T00:00:00",
          "2015-08-31T00:00:00",
          "2015-12-31T00:00:00",
          "2016-04-30T00:00:00",
          "2016-08-31T00:00:00",
          "2016-12-31T00:00:00",
          "2017-04-30T00:00:00",
          "2017-08-31T00:00:00",
          "2017-12-31T00:00:00",
          "2018-04-30T00:00:00",
          "2018-08-31T00:00:00",
          "2018-12-31T00:00:00",
          "2019-04-30T00:00:00",
          "2019-08-31T00:00:00",
          "2019-12-31T00:00:00",
          "2020-04-30T00:00:00",
          "2020-08-31T00:00:00",
          "2020-12-31T00:00:00",
          "2021-04-30T00:00:00",
          "2021-08-31T00:00:00",
          "2021-12-31T00:00:00",
          "2022-04-30T00:00:00",
          "2022-08-31T00:00:00",
          "2022-12-31T00:00:00",
          "2023-04-30T00:00:00",
          "2023-08-31T00:00:00",
          "2023-12-31T00:00:00"
         ],
         "y": [
          15.74,
          4.51,
          4.529999999999999,
          23.740000000000002,
          7.45,
          9.08,
          20.54,
          5.87,
          5.68,
          20.02,
          6.83,
          5.6,
          16.72,
          6.6,
          6.18,
          18.57,
          6.92,
          14.59,
          22.02,
          7.16,
          16.61,
          28.3,
          11.33,
          18.169999999999998,
          28.69,
          11.79,
          18.240000000000002,
          22.94,
          9.98,
          17.17,
          30.78,
          8.92,
          17.15,
          29.91,
          10.09,
          16.44,
          27.36,
          9.290000000000001,
          16.53,
          24.57,
          12.530000000000001,
          9.82,
          29.48,
          13.5,
          20.25,
          27.06,
          15.46,
          18.7,
          30.97,
          15.469999999999999,
          18.97,
          30.64,
          16.63,
          20.11,
          34.04,
          15.05,
          19.15,
          35.23,
          19.810000000000002,
          22.900000000000002,
          40.69,
          21.53,
          19.15,
          39.93,
          20.92,
          19.04,
          41.519999999999996,
          23.54,
          19.740000000000002,
          43.18,
          21.23,
          19.39,
          39.34,
          20.54,
          19.42,
          0,
          5.1,
          3.45
         ]
        },
        {
         "line": {
          "color": "skyblue"
         },
         "mode": "lines",
         "name": "Actual - Sugarcane",
         "type": "scatter",
         "x": [
          "1998-04-30T00:00:00",
          "1998-08-31T00:00:00",
          "1998-12-31T00:00:00",
          "1999-04-30T00:00:00",
          "1999-08-31T00:00:00",
          "1999-12-31T00:00:00",
          "2000-04-30T00:00:00",
          "2000-08-31T00:00:00",
          "2000-12-31T00:00:00",
          "2001-04-30T00:00:00",
          "2001-08-31T00:00:00",
          "2001-12-31T00:00:00",
          "2002-04-30T00:00:00",
          "2002-08-31T00:00:00",
          "2002-12-31T00:00:00",
          "2003-04-30T00:00:00",
          "2003-08-31T00:00:00",
          "2003-12-31T00:00:00",
          "2004-04-30T00:00:00",
          "2004-08-31T00:00:00",
          "2004-12-31T00:00:00",
          "2005-04-30T00:00:00",
          "2005-08-31T00:00:00",
          "2005-12-31T00:00:00",
          "2006-04-30T00:00:00",
          "2006-08-31T00:00:00",
          "2006-12-31T00:00:00",
          "2007-04-30T00:00:00",
          "2007-08-31T00:00:00",
          "2007-12-31T00:00:00",
          "2008-04-30T00:00:00",
          "2008-08-31T00:00:00",
          "2008-12-31T00:00:00",
          "2009-04-30T00:00:00",
          "2009-08-31T00:00:00",
          "2009-12-31T00:00:00",
          "2010-04-30T00:00:00",
          "2010-08-31T00:00:00",
          "2010-12-31T00:00:00",
          "2011-04-30T00:00:00",
          "2011-08-31T00:00:00",
          "2011-12-31T00:00:00",
          "2012-04-30T00:00:00",
          "2012-08-31T00:00:00",
          "2012-12-31T00:00:00",
          "2013-04-30T00:00:00",
          "2013-08-31T00:00:00",
          "2013-12-31T00:00:00",
          "2014-04-30T00:00:00",
          "2014-08-31T00:00:00",
          "2014-12-31T00:00:00",
          "2015-04-30T00:00:00",
          "2015-08-31T00:00:00",
          "2015-12-31T00:00:00",
          "2016-04-30T00:00:00",
          "2016-08-31T00:00:00",
          "2016-12-31T00:00:00",
          "2017-04-30T00:00:00",
          "2017-08-31T00:00:00",
          "2017-12-31T00:00:00",
          "2018-04-30T00:00:00",
          "2018-08-31T00:00:00",
          "2018-12-31T00:00:00",
          "2019-04-30T00:00:00",
          "2019-08-31T00:00:00",
          "2019-12-31T00:00:00",
          "2020-04-30T00:00:00",
          "2020-08-31T00:00:00",
          "2020-12-31T00:00:00",
          "2021-04-30T00:00:00",
          "2021-08-31T00:00:00",
          "2021-12-31T00:00:00",
          "2022-04-30T00:00:00",
          "2022-08-31T00:00:00",
          "2022-12-31T00:00:00",
          "2023-04-30T00:00:00",
          "2023-08-31T00:00:00",
          "2023-12-31T00:00:00"
         ],
         "y": [
          0,
          0,
          61.24,
          32.64,
          32.66,
          178.53,
          0,
          0,
          138.99,
          0,
          0,
          65,
          0,
          0,
          70,
          0,
          0,
          80,
          0,
          0,
          75,
          0,
          0,
          143.93,
          0,
          0,
          145.7,
          33,
          0,
          143.42000000000002,
          0,
          0,
          53.95,
          0,
          0,
          60.04,
          0,
          0,
          61.49,
          0,
          8.64,
          148.69,
          0,
          14.39,
          141.02,
          0,
          21.43,
          145.54000000000002,
          0,
          26.48,
          65.89,
          0,
          20.82,
          71.95,
          0,
          21.5,
          159.4,
          0,
          12.72,
          62.68,
          0,
          3.52,
          156.21,
          0,
          5.64,
          61.62,
          0,
          9.38,
          56.42,
          0,
          20.04,
          54.47,
          0,
          20.56,
          56.4,
          0,
          23.75,
          0
         ]
        },
        {
         "line": {
          "color": "orange"
         },
         "mode": "lines",
         "name": "Predicted - Maize",
         "type": "scatter",
         "x": [
          "2021-04-30T00:00:00",
          "2021-08-31T00:00:00",
          "2021-12-31T00:00:00",
          "2022-04-30T00:00:00",
          "2022-08-31T00:00:00",
          "2022-12-31T00:00:00",
          "2023-04-30T00:00:00",
          "2023-08-31T00:00:00",
          "2023-12-31T00:00:00",
          "2024-04-30T00:00:00",
          "2024-08-31T00:00:00",
          "2024-12-31T00:00:00",
          "2025-04-30T00:00:00",
          "2025-08-31T00:00:00",
          "2025-12-31T00:00:00",
          "2026-04-30T00:00:00",
          "2026-08-31T00:00:00",
          "2026-12-31T00:00:00",
          "2027-04-30T00:00:00",
          "2027-08-31T00:00:00",
          "2027-12-31T00:00:00",
          "2028-04-30T00:00:00",
          "2028-08-31T00:00:00",
          "2028-12-31T00:00:00"
         ],
         "y": [
          25.623950958251953,
          5.657767295837402,
          2.284512519836426,
          25.859766006469727,
          6.402578830718994,
          2.379000663757324,
          25.145416259765625,
          6.387434959411621,
          2.3836679458618164,
          25.437259674072266,
          6.506199359893799,
          2.24222469329834,
          26.629009246826172,
          6.853930473327637,
          2.628903388977051,
          25.880653381347656,
          6.707920551300049,
          2.6386022567749023,
          26.226146697998047,
          7.057511806488037,
          2.798670768737793,
          26.031326293945312,
          7.160134315490723,
          2.4072303771972656
         ]
        },
        {
         "line": {
          "color": "orange"
         },
         "mode": "lines",
         "name": "Predicted - Rice",
         "type": "scatter",
         "x": [
          "2021-04-30T00:00:00",
          "2021-08-31T00:00:00",
          "2021-12-31T00:00:00",
          "2022-04-30T00:00:00",
          "2022-08-31T00:00:00",
          "2022-12-31T00:00:00",
          "2023-04-30T00:00:00",
          "2023-08-31T00:00:00",
          "2023-12-31T00:00:00",
          "2024-04-30T00:00:00",
          "2024-08-31T00:00:00",
          "2024-12-31T00:00:00",
          "2025-04-30T00:00:00",
          "2025-08-31T00:00:00",
          "2025-12-31T00:00:00",
          "2026-04-30T00:00:00",
          "2026-08-31T00:00:00",
          "2026-12-31T00:00:00",
          "2027-04-30T00:00:00",
          "2027-08-31T00:00:00",
          "2027-12-31T00:00:00",
          "2028-04-30T00:00:00",
          "2028-08-31T00:00:00",
          "2028-12-31T00:00:00"
         ],
         "y": [
          45.138214111328125,
          20.19791030883789,
          19.261274337768555,
          45.07099151611328,
          20.695056915283203,
          19.37554931640625,
          45.385826110839844,
          20.681161880493164,
          19.51342010498047,
          45.37847137451172,
          21.253074645996094,
          19.278791427612305,
          46.45832824707031,
          21.25461769104004,
          19.87944221496582,
          46.41114044189453,
          21.110958099365234,
          20.055925369262695,
          46.75566864013672,
          21.302169799804688,
          20.258316040039062,
          46.91400146484375,
          21.356491088867188,
          20.253393173217773
         ]
        },
        {
         "line": {
          "color": "orange"
         },
         "mode": "lines",
         "name": "Predicted - Sugarcane",
         "type": "scatter",
         "x": [
          "2021-04-30T00:00:00",
          "2021-08-31T00:00:00",
          "2021-12-31T00:00:00",
          "2022-04-30T00:00:00",
          "2022-08-31T00:00:00",
          "2022-12-31T00:00:00",
          "2023-04-30T00:00:00",
          "2023-08-31T00:00:00",
          "2023-12-31T00:00:00",
          "2024-04-30T00:00:00",
          "2024-08-31T00:00:00",
          "2024-12-31T00:00:00",
          "2025-04-30T00:00:00",
          "2025-08-31T00:00:00",
          "2025-12-31T00:00:00",
          "2026-04-30T00:00:00",
          "2026-08-31T00:00:00",
          "2026-12-31T00:00:00",
          "2027-04-30T00:00:00",
          "2027-08-31T00:00:00",
          "2027-12-31T00:00:00",
          "2028-04-30T00:00:00",
          "2028-08-31T00:00:00",
          "2028-12-31T00:00:00"
         ],
         "y": [
          19.856884002685547,
          21.94318389892578,
          68.62736511230469,
          20.468948364257812,
          24.38176918029785,
          71.4120864868164,
          20.3874568939209,
          28.9031982421875,
          72.55857849121094,
          21.877490997314453,
          30.592681884765625,
          71.7366943359375,
          22.685468673706055,
          28.338218688964844,
          75.6031723022461,
          24.801239013671875,
          28.693546295166016,
          74.3857421875,
          21.625709533691406,
          29.70789337158203,
          77.11107635498047,
          26.907161712646484,
          27.104740142822266,
          74.77249145507812
         ]
        }
       ],
       "layout": {
        "showlegend": true,
        "template": {
         "data": {
          "bar": [
           {
            "error_x": {
             "color": "#2a3f5f"
            },
            "error_y": {
             "color": "#2a3f5f"
            },
            "marker": {
             "line": {
              "color": "#E5ECF6",
              "width": 0.5
             },
             "pattern": {
              "fillmode": "overlay",
              "size": 10,
              "solidity": 0.2
             }
            },
            "type": "bar"
           }
          ],
          "barpolar": [
           {
            "marker": {
             "line": {
              "color": "#E5ECF6",
              "width": 0.5
             },
             "pattern": {
              "fillmode": "overlay",
              "size": 10,
              "solidity": 0.2
             }
            },
            "type": "barpolar"
           }
          ],
          "carpet": [
           {
            "aaxis": {
             "endlinecolor": "#2a3f5f",
             "gridcolor": "white",
             "linecolor": "white",
             "minorgridcolor": "white",
             "startlinecolor": "#2a3f5f"
            },
            "baxis": {
             "endlinecolor": "#2a3f5f",
             "gridcolor": "white",
             "linecolor": "white",
             "minorgridcolor": "white",
             "startlinecolor": "#2a3f5f"
            },
            "type": "carpet"
           }
          ],
          "choropleth": [
           {
            "colorbar": {
             "outlinewidth": 0,
             "ticks": ""
            },
            "type": "choropleth"
           }
          ],
          "contour": [
           {
            "colorbar": {
             "outlinewidth": 0,
             "ticks": ""
            },
            "colorscale": [
             [
              0,
              "#0d0887"
             ],
             [
              0.1111111111111111,
              "#46039f"
             ],
             [
              0.2222222222222222,
              "#7201a8"
             ],
             [
              0.3333333333333333,
              "#9c179e"
             ],
             [
              0.4444444444444444,
              "#bd3786"
             ],
             [
              0.5555555555555556,
              "#d8576b"
             ],
             [
              0.6666666666666666,
              "#ed7953"
             ],
             [
              0.7777777777777778,
              "#fb9f3a"
             ],
             [
              0.8888888888888888,
              "#fdca26"
             ],
             [
              1,
              "#f0f921"
             ]
            ],
            "type": "contour"
           }
          ],
          "contourcarpet": [
           {
            "colorbar": {
             "outlinewidth": 0,
             "ticks": ""
            },
            "type": "contourcarpet"
           }
          ],
          "heatmap": [
           {
            "colorbar": {
             "outlinewidth": 0,
             "ticks": ""
            },
            "colorscale": [
             [
              0,
              "#0d0887"
             ],
             [
              0.1111111111111111,
              "#46039f"
             ],
             [
              0.2222222222222222,
              "#7201a8"
             ],
             [
              0.3333333333333333,
              "#9c179e"
             ],
             [
              0.4444444444444444,
              "#bd3786"
             ],
             [
              0.5555555555555556,
              "#d8576b"
             ],
             [
              0.6666666666666666,
              "#ed7953"
             ],
             [
              0.7777777777777778,
              "#fb9f3a"
             ],
             [
              0.8888888888888888,
              "#fdca26"
             ],
             [
              1,
              "#f0f921"
             ]
            ],
            "type": "heatmap"
           }
          ],
          "heatmapgl": [
           {
            "colorbar": {
             "outlinewidth": 0,
             "ticks": ""
            },
            "colorscale": [
             [
              0,
              "#0d0887"
             ],
             [
              0.1111111111111111,
              "#46039f"
             ],
             [
              0.2222222222222222,
              "#7201a8"
             ],
             [
              0.3333333333333333,
              "#9c179e"
             ],
             [
              0.4444444444444444,
              "#bd3786"
             ],
             [
              0.5555555555555556,
              "#d8576b"
             ],
             [
              0.6666666666666666,
              "#ed7953"
             ],
             [
              0.7777777777777778,
              "#fb9f3a"
             ],
             [
              0.8888888888888888,
              "#fdca26"
             ],
             [
              1,
              "#f0f921"
             ]
            ],
            "type": "heatmapgl"
           }
          ],
          "histogram": [
           {
            "marker": {
             "pattern": {
              "fillmode": "overlay",
              "size": 10,
              "solidity": 0.2
             }
            },
            "type": "histogram"
           }
          ],
          "histogram2d": [
           {
            "colorbar": {
             "outlinewidth": 0,
             "ticks": ""
            },
            "colorscale": [
             [
              0,
              "#0d0887"
             ],
             [
              0.1111111111111111,
              "#46039f"
             ],
             [
              0.2222222222222222,
              "#7201a8"
             ],
             [
              0.3333333333333333,
              "#9c179e"
             ],
             [
              0.4444444444444444,
              "#bd3786"
             ],
             [
              0.5555555555555556,
              "#d8576b"
             ],
             [
              0.6666666666666666,
              "#ed7953"
             ],
             [
              0.7777777777777778,
              "#fb9f3a"
             ],
             [
              0.8888888888888888,
              "#fdca26"
             ],
             [
              1,
              "#f0f921"
             ]
            ],
            "type": "histogram2d"
           }
          ],
          "histogram2dcontour": [
           {
            "colorbar": {
             "outlinewidth": 0,
             "ticks": ""
            },
            "colorscale": [
             [
              0,
              "#0d0887"
             ],
             [
              0.1111111111111111,
              "#46039f"
             ],
             [
              0.2222222222222222,
              "#7201a8"
             ],
             [
              0.3333333333333333,
              "#9c179e"
             ],
             [
              0.4444444444444444,
              "#bd3786"
             ],
             [
              0.5555555555555556,
              "#d8576b"
             ],
             [
              0.6666666666666666,
              "#ed7953"
             ],
             [
              0.7777777777777778,
              "#fb9f3a"
             ],
             [
              0.8888888888888888,
              "#fdca26"
             ],
             [
              1,
              "#f0f921"
             ]
            ],
            "type": "histogram2dcontour"
           }
          ],
          "mesh3d": [
           {
            "colorbar": {
             "outlinewidth": 0,
             "ticks": ""
            },
            "type": "mesh3d"
           }
          ],
          "parcoords": [
           {
            "line": {
             "colorbar": {
              "outlinewidth": 0,
              "ticks": ""
             }
            },
            "type": "parcoords"
           }
          ],
          "pie": [
           {
            "automargin": true,
            "type": "pie"
           }
          ],
          "scatter": [
           {
            "fillpattern": {
             "fillmode": "overlay",
             "size": 10,
             "solidity": 0.2
            },
            "type": "scatter"
           }
          ],
          "scatter3d": [
           {
            "line": {
             "colorbar": {
              "outlinewidth": 0,
              "ticks": ""
             }
            },
            "marker": {
             "colorbar": {
              "outlinewidth": 0,
              "ticks": ""
             }
            },
            "type": "scatter3d"
           }
          ],
          "scattercarpet": [
           {
            "marker": {
             "colorbar": {
              "outlinewidth": 0,
              "ticks": ""
             }
            },
            "type": "scattercarpet"
           }
          ],
          "scattergeo": [
           {
            "marker": {
             "colorbar": {
              "outlinewidth": 0,
              "ticks": ""
             }
            },
            "type": "scattergeo"
           }
          ],
          "scattergl": [
           {
            "marker": {
             "colorbar": {
              "outlinewidth": 0,
              "ticks": ""
             }
            },
            "type": "scattergl"
           }
          ],
          "scattermapbox": [
           {
            "marker": {
             "colorbar": {
              "outlinewidth": 0,
              "ticks": ""
             }
            },
            "type": "scattermapbox"
           }
          ],
          "scatterpolar": [
           {
            "marker": {
             "colorbar": {
              "outlinewidth": 0,
              "ticks": ""
             }
            },
            "type": "scatterpolar"
           }
          ],
          "scatterpolargl": [
           {
            "marker": {
             "colorbar": {
              "outlinewidth": 0,
              "ticks": ""
             }
            },
            "type": "scatterpolargl"
           }
          ],
          "scatterternary": [
           {
            "marker": {
             "colorbar": {
              "outlinewidth": 0,
              "ticks": ""
             }
            },
            "type": "scatterternary"
           }
          ],
          "surface": [
           {
            "colorbar": {
             "outlinewidth": 0,
             "ticks": ""
            },
            "colorscale": [
             [
              0,
              "#0d0887"
             ],
             [
              0.1111111111111111,
              "#46039f"
             ],
             [
              0.2222222222222222,
              "#7201a8"
             ],
             [
              0.3333333333333333,
              "#9c179e"
             ],
             [
              0.4444444444444444,
              "#bd3786"
             ],
             [
              0.5555555555555556,
              "#d8576b"
             ],
             [
              0.6666666666666666,
              "#ed7953"
             ],
             [
              0.7777777777777778,
              "#fb9f3a"
             ],
             [
              0.8888888888888888,
              "#fdca26"
             ],
             [
              1,
              "#f0f921"
             ]
            ],
            "type": "surface"
           }
          ],
          "table": [
           {
            "cells": {
             "fill": {
              "color": "#EBF0F8"
             },
             "line": {
              "color": "white"
             }
            },
            "header": {
             "fill": {
              "color": "#C8D4E3"
             },
             "line": {
              "color": "white"
             }
            },
            "type": "table"
           }
          ]
         },
         "layout": {
          "annotationdefaults": {
           "arrowcolor": "#2a3f5f",
           "arrowhead": 0,
           "arrowwidth": 1
          },
          "autotypenumbers": "strict",
          "coloraxis": {
           "colorbar": {
            "outlinewidth": 0,
            "ticks": ""
           }
          },
          "colorscale": {
           "diverging": [
            [
             0,
             "#8e0152"
            ],
            [
             0.1,
             "#c51b7d"
            ],
            [
             0.2,
             "#de77ae"
            ],
            [
             0.3,
             "#f1b6da"
            ],
            [
             0.4,
             "#fde0ef"
            ],
            [
             0.5,
             "#f7f7f7"
            ],
            [
             0.6,
             "#e6f5d0"
            ],
            [
             0.7,
             "#b8e186"
            ],
            [
             0.8,
             "#7fbc41"
            ],
            [
             0.9,
             "#4d9221"
            ],
            [
             1,
             "#276419"
            ]
           ],
           "sequential": [
            [
             0,
             "#0d0887"
            ],
            [
             0.1111111111111111,
             "#46039f"
            ],
            [
             0.2222222222222222,
             "#7201a8"
            ],
            [
             0.3333333333333333,
             "#9c179e"
            ],
            [
             0.4444444444444444,
             "#bd3786"
            ],
            [
             0.5555555555555556,
             "#d8576b"
            ],
            [
             0.6666666666666666,
             "#ed7953"
            ],
            [
             0.7777777777777778,
             "#fb9f3a"
            ],
            [
             0.8888888888888888,
             "#fdca26"
            ],
            [
             1,
             "#f0f921"
            ]
           ],
           "sequentialminus": [
            [
             0,
             "#0d0887"
            ],
            [
             0.1111111111111111,
             "#46039f"
            ],
            [
             0.2222222222222222,
             "#7201a8"
            ],
            [
             0.3333333333333333,
             "#9c179e"
            ],
            [
             0.4444444444444444,
             "#bd3786"
            ],
            [
             0.5555555555555556,
             "#d8576b"
            ],
            [
             0.6666666666666666,
             "#ed7953"
            ],
            [
             0.7777777777777778,
             "#fb9f3a"
            ],
            [
             0.8888888888888888,
             "#fdca26"
            ],
            [
             1,
             "#f0f921"
            ]
           ]
          },
          "colorway": [
           "#636efa",
           "#EF553B",
           "#00cc96",
           "#ab63fa",
           "#FFA15A",
           "#19d3f3",
           "#FF6692",
           "#B6E880",
           "#FF97FF",
           "#FECB52"
          ],
          "font": {
           "color": "#2a3f5f"
          },
          "geo": {
           "bgcolor": "white",
           "lakecolor": "white",
           "landcolor": "#E5ECF6",
           "showlakes": true,
           "showland": true,
           "subunitcolor": "white"
          },
          "hoverlabel": {
           "align": "left"
          },
          "hovermode": "closest",
          "mapbox": {
           "style": "light"
          },
          "paper_bgcolor": "white",
          "plot_bgcolor": "#E5ECF6",
          "polar": {
           "angularaxis": {
            "gridcolor": "white",
            "linecolor": "white",
            "ticks": ""
           },
           "bgcolor": "#E5ECF6",
           "radialaxis": {
            "gridcolor": "white",
            "linecolor": "white",
            "ticks": ""
           }
          },
          "scene": {
           "xaxis": {
            "backgroundcolor": "#E5ECF6",
            "gridcolor": "white",
            "gridwidth": 2,
            "linecolor": "white",
            "showbackground": true,
            "ticks": "",
            "zerolinecolor": "white"
           },
           "yaxis": {
            "backgroundcolor": "#E5ECF6",
            "gridcolor": "white",
            "gridwidth": 2,
            "linecolor": "white",
            "showbackground": true,
            "ticks": "",
            "zerolinecolor": "white"
           },
           "zaxis": {
            "backgroundcolor": "#E5ECF6",
            "gridcolor": "white",
            "gridwidth": 2,
            "linecolor": "white",
            "showbackground": true,
            "ticks": "",
            "zerolinecolor": "white"
           }
          },
          "shapedefaults": {
           "line": {
            "color": "#2a3f5f"
           }
          },
          "ternary": {
           "aaxis": {
            "gridcolor": "white",
            "linecolor": "white",
            "ticks": ""
           },
           "baxis": {
            "gridcolor": "white",
            "linecolor": "white",
            "ticks": ""
           },
           "bgcolor": "#E5ECF6",
           "caxis": {
            "gridcolor": "white",
            "linecolor": "white",
            "ticks": ""
           }
          },
          "title": {
           "x": 0.05
          },
          "xaxis": {
           "automargin": true,
           "gridcolor": "white",
           "linecolor": "white",
           "ticks": "",
           "title": {
            "standoff": 15
           },
           "zerolinecolor": "white",
           "zerolinewidth": 2
          },
          "yaxis": {
           "automargin": true,
           "gridcolor": "white",
           "linecolor": "white",
           "ticks": "",
           "title": {
            "standoff": 15
           },
           "zerolinecolor": "white",
           "zerolinewidth": 2
          }
         }
        },
        "title": {
         "text": "India's Crop Yield Over Time with Forecast (1998-2030)"
        },
        "updatemenus": [
         {
          "buttons": [
           {
            "args": [
             {
              "visible": [
               true,
               false,
               false,
               true,
               false,
               false
              ]
             }
            ],
            "label": "Maize",
            "method": "update"
           },
           {
            "args": [
             {
              "visible": [
               false,
               true,
               false,
               false,
               true,
               false
              ]
             }
            ],
            "label": "Rice",
            "method": "update"
           },
           {
            "args": [
             {
              "visible": [
               false,
               false,
               true,
               false,
               false,
               true
              ]
             }
            ],
            "label": "Sugarcane",
            "method": "update"
           }
          ],
          "direction": "down",
          "showactive": true,
          "x": 1,
          "xanchor": "right",
          "y": 1.1,
          "yanchor": "top"
         }
        ],
        "xaxis": {
         "title": {
          "text": "Year"
         }
        },
        "yaxis": {
         "title": {
          "text": "Yield"
         }
        }
       }
      }
     },
     "metadata": {},
     "output_type": "display_data"
    }
   ],
   "source": [
    "# Initialize the figure\n",
    "fig = go.Figure()\n",
    "\n",
    "# Add actual lines\n",
    "for unique_id in unique_ids:\n",
    "    actual_values = hist_df_nbx[hist_df_nbx['unique_id'] == unique_id]\n",
    "    fig.add_trace(go.Scatter(x=actual_values['ds'], y=actual_values['y'],\n",
    "                             mode='lines',\n",
    "                             name=f'Actual - {unique_id}',\n",
    "                             line=dict(color='skyblue')))\n",
    "\n",
    "# Add predicted lines\n",
    "for unique_id in unique_ids:\n",
    "    predicted_values = pred_df[pred_df['unique_id'] == unique_id]\n",
    "    fig.add_trace(go.Scatter(x=predicted_values['ds'], y=predicted_values['NBEATSx'],\n",
    "                             mode='lines',\n",
    "                             name=f'Predicted - {unique_id}',\n",
    "                             line=dict(color='orange')))\n",
    "\n",
    "# Update layout\n",
    "fig.update_layout(xaxis=dict(title='Year'),\n",
    "                  yaxis=dict(title='Yield'),\n",
    "                  title='India\\'s Crop Yield Over Time with Forecast (1998-2030)',\n",
    "                  showlegend=True)\n",
    "\n",
    "# Add dropdown menu for selecting unique_id\n",
    "buttons = []\n",
    "for unique_id in unique_ids:\n",
    "    button = dict(label=unique_id,\n",
    "                  method=\"update\",\n",
    "                  args=[{\"visible\": [True if trace.name == f'Actual - {unique_id}' or \n",
    "                                     trace.name == f'Predicted - {unique_id}' else False for trace in fig.data]}])\n",
    "    buttons.append(button)\n",
    "\n",
    "fig.update_layout(\n",
    "    updatemenus=[\n",
    "        dict(\n",
    "            buttons=buttons,\n",
    "            direction=\"down\",\n",
    "            showactive=True,\n",
    "            x=1.0,\n",
    "            xanchor='right',\n",
    "            y=1.1,\n",
    "            yanchor='top'\n",
    "        )\n",
    "    ])\n",
    "\n",
    "# Show plot\n",
    "fig.show()"
   ]
  },
  {
   "cell_type": "markdown",
   "metadata": {},
   "source": [
    "### Model Evaluation"
   ]
  },
  {
   "cell_type": "code",
   "execution_count": 58,
   "metadata": {},
   "outputs": [],
   "source": [
    "from utilsforecast.evaluation import evaluate\n",
    "from utilsforecast.losses import rmse"
   ]
  },
  {
   "cell_type": "code",
   "execution_count": 59,
   "metadata": {},
   "outputs": [],
   "source": [
    "joined_df = pd.merge(hist_df_nbx, pred_df[['unique_id', 'ds', 'NBEATSx']], on=['unique_id', 'ds'])"
   ]
  },
  {
   "cell_type": "code",
   "execution_count": 60,
   "metadata": {},
   "outputs": [],
   "source": [
    "evaluation_df = evaluate(joined_df.loc[:, joined_df.columns != 'cutoff'], metrics=[rmse])\n",
    "\n",
    "columns_to_drop = evaluation_df.columns.difference(['unique_id', 'metric', 'NBEATSx'])\n",
    "\n",
    "evaluation_df = evaluation_df.drop(columns=columns_to_drop)"
   ]
  },
  {
   "cell_type": "code",
   "execution_count": 61,
   "metadata": {},
   "outputs": [
    {
     "name": "stdout",
     "output_type": "stream",
     "text": [
      "Average RMSE:  3.456248945367861\n"
     ]
    }
   ],
   "source": [
    "rmse_val = evaluation_df['NBEATSx'].mean()\n",
    "print(\"Average RMSE: \", rmse_val)"
   ]
  },
  {
   "cell_type": "markdown",
   "metadata": {},
   "source": [
    "### Signal Decomposition"
   ]
  },
  {
   "cell_type": "code",
   "execution_count": 62,
   "metadata": {},
   "outputs": [
    {
     "name": "stdout",
     "output_type": "stream",
     "text": [
      "Predicting DataLoader 0: 100%|██████████| 2/2 [00:00<00:00, 210.15it/s]\n"
     ]
    }
   ],
   "source": [
    "from neuralforecast.tsdataset import TimeSeriesDataset\n",
    "model = nf.models[0]\n",
    "dataset, *_ = TimeSeriesDataset.from_df(df = train)\n",
    "y_hat = model.decompose(dataset=dataset)"
   ]
  },
  {
   "cell_type": "code",
   "execution_count": 63,
   "metadata": {},
   "outputs": [
    {
     "data": {
      "image/png": "[encoded data removed]",
      "text/plain": [
       "<Figure size 1000x2000 with 5 Axes>"
      ]
     },
     "metadata": {},
     "output_type": "display_data"
    }
   ],
   "source": [
    "import matplotlib.pyplot as plt\n",
    "\n",
    "fig, ax = plt.subplots(5, 1, figsize=(10, 20))\n",
    "\n",
    "ax[0].plot(valid['y'].values, label='True', linewidth=4)\n",
    "ax[0].plot(y_hat.sum(axis=1).flatten(), label='Forecast', color=\"#7B3841\")\n",
    "ax[0].legend()\n",
    "ax[0].set_ylabel('Harmonic Signal')\n",
    "\n",
    "ax[1].plot(y_hat[0,1]+y_hat[0,0], label='stack1', color=\"green\")\n",
    "ax[1].set_ylabel('NBEATSx Trend Stack')\n",
    "\n",
    "ax[2].plot(y_hat[0,2], label='stack2', color=\"orange\")\n",
    "ax[2].set_ylabel('NBEATSx Seasonality Stack')\n",
    "\n",
    "ax[3].plot(y_hat[0,3], label='stack2', color=\"purple\")\n",
    "ax[3].set_ylabel('NBEATSx Exogenous Stack')\n",
    "\n",
    "ax[4].plot(y_hat[0,4], label='stack2', color=\"brown\")\n",
    "ax[4].set_ylabel('NBEATSx Residuals Stack')\n",
    "\n",
    "ax[4].set_xlabel(r'Prediction $\\tau \\in \\{t+1,..., t+H\\}$')\n",
    "plt.show()"
   ]
  }
 ],
 "metadata": {
  "kernelspec": {
   "display_name": "Python 3 (ipykernel)",
   "language": "python",
   "name": "python3"
  },
  "language_info": {
   "codemirror_mode": {
    "name": "ipython",
    "version": 3
   },
   "file_extension": ".py",
   "mimetype": "text/x-python",
   "name": "python",
   "nbconvert_exporter": "python",
   "pygments_lexer": "ipython3",
   "version": "3.11.0"
  }
 },
 "nbformat": 4,
 "nbformat_minor": 2
}
